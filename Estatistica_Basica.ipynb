{
  "nbformat": 4,
  "nbformat_minor": 0,
  "metadata": {
    "colab": {
      "provenance": []
    },
    "kernelspec": {
      "name": "python3",
      "display_name": "Python 3"
    },
    "language_info": {
      "name": "python"
    }
  },
  "cells": [
    {
      "cell_type": "code",
      "execution_count": 1,
      "metadata": {
        "id": "YTXq2p71oebz"
      },
      "outputs": [],
      "source": [
        "import pandas as pd\n",
        "import numpy as np\n",
        "import matplotlib.pyplot as plt\n",
        "import statistics"
      ]
    },
    {
      "cell_type": "markdown",
      "source": [
        "# **1) Medidas de Posição**"
      ],
      "metadata": {
        "id": "Mvv9AuLbo9P9"
      }
    },
    {
      "cell_type": "markdown",
      "source": [
        "**Média aritmética simples**\n",
        "\n",
        "\n",
        "- Soma dos elementos de um conjunto de dados dividido pelo número total de elementos deste conjunto.\n",
        "\n",
        "\n",
        "Exemplos:\n",
        "  - Médias das notas anuais;\n",
        "  - Média de vendas\n",
        "  - Média de idades\n",
        "\n",
        "\n",
        "  A média é sensível a valores extremos, quanto maior o grau de heterogeneidade dos dados, maior será a sensibilidade da média a esses valores extremos, e poderemos concluir que a média não representará tão bem esse conjunto de dados."
      ],
      "metadata": {
        "id": "xAHYpZv_pZBx"
      }
    },
    {
      "cell_type": "markdown",
      "source": [
        "Exemplo 1:\n",
        "\n",
        "Calcular a média de aluno na disciplina de matemática. As do aluno foram: 7, 8, 6, 10.\n",
        "\n",
        "Suponha que para ser aprovado o aluno deve tirar uma média de 7 pontos."
      ],
      "metadata": {
        "id": "1nLML7_UqZLr"
      }
    },
    {
      "cell_type": "code",
      "source": [
        "# lista com aa notas disponíveis\n",
        "notas = [7, 8, 6, 10]\n",
        "\n",
        "# soma dos valores da lista\n",
        "soma = sum(notas)\n",
        "\n",
        "# divisão da soma pela quantidade de elementos\n",
        "media = soma/len(notas)\n",
        "\n",
        "print(f'A média do aluno foi: {media}')"
      ],
      "metadata": {
        "colab": {
          "base_uri": "https://localhost:8080/"
        },
        "id": "XdGJKSg5puUe",
        "outputId": "1bbaa4e4-4c43-4d15-bb8f-958d25ce1f37"
      },
      "execution_count": 9,
      "outputs": [
        {
          "output_type": "stream",
          "name": "stdout",
          "text": [
            "A média do aluno foi: 7.75\n"
          ]
        }
      ]
    },
    {
      "cell_type": "markdown",
      "source": [
        "Exemplo 2:\n",
        "\n",
        "Considere o índice de endividamento de um conjunto de empresas: 25%, 51%, 76%, 41%, 55%, 13%.\n",
        "\n",
        "Calculemos a média de endividamento destas empresas."
      ],
      "metadata": {
        "id": "o1e3Vmhvqyg7"
      }
    },
    {
      "cell_type": "code",
      "source": [
        "# lista com os valores disponíveis\n",
        "endividamento = [25, 51, 76, 41, 55, 13]\n",
        "\n",
        "# criando uma função para calcular a média\n",
        "def calcular_media(vetor):\n",
        "    return sum(vetor)/len(vetor)\n",
        "\n",
        "print(f'A média de endividamento das empresas é: {calcular_media(endividamento)} ')"
      ],
      "metadata": {
        "colab": {
          "base_uri": "https://localhost:8080/"
        },
        "id": "f50t_DosrY7m",
        "outputId": "8ae543a6-b4c0-4b3e-9ca8-bdaf2dd2f0f0"
      },
      "execution_count": 11,
      "outputs": [
        {
          "output_type": "stream",
          "name": "stdout",
          "text": [
            "A média de endividamento das empresas é: 43.5 \n"
          ]
        }
      ]
    },
    {
      "cell_type": "markdown",
      "source": [
        "Exemplo 3:\n",
        "\n",
        "Vamos supor que uma loja registro o seguinte resultado de vendas de 4 produtos: 10, 17, 13, 15.\n",
        "\n",
        "Calculemos a média."
      ],
      "metadata": {
        "id": "1HYsEQ6VtUY0"
      }
    },
    {
      "cell_type": "code",
      "source": [
        "vendas = [10, 17, 13, 300]\n",
        "calcular_media(vendas)"
      ],
      "metadata": {
        "colab": {
          "base_uri": "https://localhost:8080/"
        },
        "id": "wEvvCCVztjFC",
        "outputId": "9323e68c-82a0-4377-9dbb-06aa4d097d95"
      },
      "execution_count": 16,
      "outputs": [
        {
          "output_type": "execute_result",
          "data": {
            "text/plain": [
              "85.0"
            ]
          },
          "metadata": {},
          "execution_count": 16
        }
      ]
    },
    {
      "cell_type": "markdown",
      "source": [
        "**Média aritmética ponderada**\n",
        "\n"
      ],
      "metadata": {
        "id": "96DhqmjiuOM3"
      }
    },
    {
      "cell_type": "code",
      "source": [],
      "metadata": {
        "id": "e8JoK6YSwoQi"
      },
      "execution_count": null,
      "outputs": []
    }
  ]
}